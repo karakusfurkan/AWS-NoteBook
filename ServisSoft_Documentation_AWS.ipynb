{
 "cells": [
  {
   "cell_type": "markdown",
   "metadata": {},
   "source": [
    "## AWS Dökümantasyonu"
   ]
  },
  {
   "cell_type": "raw",
   "metadata": {},
   "source": [
    "Bu notebook'ta AWS ile ilgili bilgilerin toplandığı bir dökümantasyon yaratılmıştır. Ayrıca ServisSoft'un hangi servisleri kullanması gerektiği ile ilgili bilgiler derlenmiş ve detaylandırılmıştır."
   ]
  },
  {
   "cell_type": "markdown",
   "metadata": {},
   "source": [
    "#### İçindekiler"
   ]
  },
  {
   "cell_type": "raw",
   "metadata": {},
   "source": [
    "Amazon S3: Object Storage for your data\n",
    "\n",
    "VPC Endpoint Gateway: Privately access your S3 bucket without going through the public internet\n",
    "\n",
    "Kinesis Data Streams: real-time data streams, need capacity planning, real-time applications\n",
    "\n",
    "Kinesis Data Firehose: near real-time data ingestion to S3, Redshift, ElasticSearch, Splunk\n",
    "\n",
    "Kinesis Data Analytics: SQL transformations on streaming data\n",
    "\n",
    "Kinesis Video Streams: real-time video feeds\n",
    "\n",
    "Glue Data Catalog & Crawlers: Metadata repositories for schemas and datasets in your account\n",
    "\n",
    "Glue ETL: ETL Jobs as Spark programs, run on a serverless Spark Cluster\n",
    "\n",
    "DynamoDB: NoSQL store\n",
    "\n",
    "Redshift: Data Warehousing for OLAP, SQL language\n",
    "\n",
    "Redshift Spectrum: Redshift on data in S3 (without the need to load it first in Redshift)\n",
    "\n",
    "RDS / Aurora: Relational Data Store for OLTP, SQL language\n",
    "\n",
    "ElasticSearch: index for your data, search capability, clickstream analytics\n",
    "\n",
    "ElastiCache: data cache technology\n",
    "\n",
    "Data Pipelines: Orchestration of ETL jobs between RDS, DynamoDB, S3. Runs on EC2 instances\n",
    "\n",
    "Batch: batch jobs run as Docker containers - not just for data, manages EC2 instances for you\n",
    "\n",
    "DMS: Database Migration Service, 1-to-1 CDC replication, no ETL\n",
    "\n",
    "Step Functions: Orchestration of workflows, audit, retry mechanisms\n",
    "\n",
    "##\n",
    "\n",
    "EMR: Managed Hadoop Clusters\n",
    "\n",
    "Quicksight: Visualization Tool\n",
    "\n",
    "Rekognition: ML Service\n",
    "\n",
    "SageMaker: ML Service\n",
    "\n",
    "DeepLens: camera by Amazon\n",
    "\n",
    "Athena: Serverless Query of your data\n",
    "\n",
    "####Devam edecek\n"
   ]
  },
  {
   "cell_type": "code",
   "execution_count": null,
   "metadata": {},
   "outputs": [],
   "source": []
  },
  {
   "cell_type": "code",
   "execution_count": null,
   "metadata": {},
   "outputs": [],
   "source": []
  },
  {
   "cell_type": "code",
   "execution_count": null,
   "metadata": {},
   "outputs": [],
   "source": []
  },
  {
   "cell_type": "code",
   "execution_count": null,
   "metadata": {},
   "outputs": [],
   "source": []
  },
  {
   "cell_type": "code",
   "execution_count": null,
   "metadata": {},
   "outputs": [],
   "source": []
  },
  {
   "cell_type": "code",
   "execution_count": null,
   "metadata": {},
   "outputs": [],
   "source": []
  },
  {
   "cell_type": "code",
   "execution_count": null,
   "metadata": {},
   "outputs": [],
   "source": []
  },
  {
   "cell_type": "code",
   "execution_count": null,
   "metadata": {},
   "outputs": [],
   "source": []
  },
  {
   "cell_type": "code",
   "execution_count": null,
   "metadata": {},
   "outputs": [],
   "source": []
  },
  {
   "cell_type": "code",
   "execution_count": null,
   "metadata": {},
   "outputs": [],
   "source": []
  },
  {
   "cell_type": "code",
   "execution_count": null,
   "metadata": {},
   "outputs": [],
   "source": []
  },
  {
   "cell_type": "code",
   "execution_count": null,
   "metadata": {},
   "outputs": [],
   "source": []
  },
  {
   "cell_type": "code",
   "execution_count": null,
   "metadata": {},
   "outputs": [],
   "source": []
  },
  {
   "cell_type": "code",
   "execution_count": null,
   "metadata": {},
   "outputs": [],
   "source": []
  },
  {
   "cell_type": "code",
   "execution_count": null,
   "metadata": {},
   "outputs": [],
   "source": []
  },
  {
   "cell_type": "code",
   "execution_count": null,
   "metadata": {},
   "outputs": [],
   "source": []
  },
  {
   "cell_type": "code",
   "execution_count": null,
   "metadata": {},
   "outputs": [],
   "source": []
  },
  {
   "cell_type": "code",
   "execution_count": null,
   "metadata": {},
   "outputs": [],
   "source": []
  },
  {
   "cell_type": "code",
   "execution_count": null,
   "metadata": {},
   "outputs": [],
   "source": []
  },
  {
   "cell_type": "code",
   "execution_count": null,
   "metadata": {},
   "outputs": [],
   "source": []
  },
  {
   "cell_type": "code",
   "execution_count": null,
   "metadata": {},
   "outputs": [],
   "source": []
  },
  {
   "cell_type": "code",
   "execution_count": null,
   "metadata": {},
   "outputs": [],
   "source": []
  },
  {
   "cell_type": "code",
   "execution_count": null,
   "metadata": {},
   "outputs": [],
   "source": []
  },
  {
   "cell_type": "code",
   "execution_count": null,
   "metadata": {},
   "outputs": [],
   "source": []
  },
  {
   "cell_type": "code",
   "execution_count": null,
   "metadata": {},
   "outputs": [],
   "source": []
  },
  {
   "cell_type": "code",
   "execution_count": null,
   "metadata": {},
   "outputs": [],
   "source": []
  },
  {
   "cell_type": "code",
   "execution_count": null,
   "metadata": {},
   "outputs": [],
   "source": []
  },
  {
   "cell_type": "code",
   "execution_count": null,
   "metadata": {},
   "outputs": [],
   "source": []
  },
  {
   "cell_type": "code",
   "execution_count": null,
   "metadata": {},
   "outputs": [],
   "source": []
  },
  {
   "cell_type": "code",
   "execution_count": null,
   "metadata": {},
   "outputs": [],
   "source": []
  },
  {
   "cell_type": "code",
   "execution_count": null,
   "metadata": {},
   "outputs": [],
   "source": []
  },
  {
   "cell_type": "code",
   "execution_count": null,
   "metadata": {},
   "outputs": [],
   "source": []
  },
  {
   "cell_type": "code",
   "execution_count": null,
   "metadata": {},
   "outputs": [],
   "source": []
  },
  {
   "cell_type": "markdown",
   "metadata": {},
   "source": [
    "#  ServisSoft'un Kullanması Gereken Servisler"
   ]
  },
  {
   "cell_type": "code",
   "execution_count": null,
   "metadata": {},
   "outputs": [],
   "source": []
  }
 ],
 "metadata": {
  "kernelspec": {
   "display_name": "Python 3",
   "language": "python",
   "name": "python3"
  },
  "language_info": {
   "codemirror_mode": {
    "name": "ipython",
    "version": 3
   },
   "file_extension": ".py",
   "mimetype": "text/x-python",
   "name": "python",
   "nbconvert_exporter": "python",
   "pygments_lexer": "ipython3",
   "version": "3.7.3"
  }
 },
 "nbformat": 4,
 "nbformat_minor": 2
}
