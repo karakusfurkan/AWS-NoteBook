{
 "cells": [
  {
   "cell_type": "markdown",
   "metadata": {},
   "source": [
    "# AWS Documentation"
   ]
  },
  {
   "cell_type": "raw",
   "metadata": {},
   "source": [
    "In this notebook, a documentation has been created that collects information about AWS. In addition, information about what services ServisSoft should use has been detailed."
   ]
  },
  {
   "cell_type": "markdown",
   "metadata": {},
   "source": [
    "#### Contents"
   ]
  },
  {
   "cell_type": "raw",
   "metadata": {},
   "source": [
    "Amazon S3: Object Storage for your data\n",
    "\n",
    "VPC Endpoint Gateway: Privately access your S3 bucket without going through the public internet\n",
    "\n",
    "Kinesis Data Streams: real-time data streams, need capacity planning, real-time applications\n",
    "\n",
    "Kinesis Data Firehose: near real-time data ingestion to S3, Redshift, ElasticSearch, Splunk\n",
    "\n",
    "Kinesis Data Analytics: SQL transformations on streaming data\n",
    "\n",
    "Kinesis Video Streams: real-time video feeds\n",
    "\n",
    "Glue Data Catalog & Crawlers: Metadata repositories for schemas and datasets in your account\n",
    "\n",
    "Glue ETL: ETL Jobs as Spark programs, run on a serverless Spark Cluster\n",
    "\n",
    "DynamoDB: NoSQL store\n",
    "\n",
    "Redshift: Data Warehousing for OLAP, SQL language\n",
    "\n",
    "Redshift Spectrum: Redshift on data in S3 (without the need to load it first in Redshift)\n",
    "\n",
    "RDS / Aurora: Relational Data Store for OLTP, SQL language\n",
    "\n",
    "ElasticSearch: index for your data, search capability, clickstream analytics\n",
    "\n",
    "ElastiCache: data cache technology\n",
    "\n",
    "Data Pipelines: Orchestration of ETL jobs between RDS, DynamoDB, S3. Runs on EC2 instances\n",
    "\n",
    "Batch: batch jobs run as Docker containers - not just for data, manages EC2 instances for you\n",
    "\n",
    "DMS: Database Migration Service, 1-to-1 CDC replication, no ETL\n",
    "\n",
    "Step Functions: Orchestration of workflows, audit, retry mechanisms\n",
    "\n",
    "##\n",
    "\n",
    "EMR: Managed Hadoop Clusters\n",
    "\n",
    "Quicksight: Visualization Tool\n",
    "\n",
    "Rekognition: ML Service\n",
    "\n",
    "SageMaker: ML Service\n",
    "\n",
    "DeepLens: camera by Amazon\n",
    "\n",
    "Athena: Serverless Query of your data\n",
    "\n",
    "####Devam edecek\n"
   ]
  },
  {
   "cell_type": "markdown",
   "metadata": {},
   "source": [
    "## Amazon S3"
   ]
  },
  {
   "cell_type": "markdown",
   "metadata": {},
   "source": [
    "Amazon S3 allows people to store objects(files) in \"buckets\"(directories)."
   ]
  },
  {
   "cell_type": "markdown",
   "metadata": {},
   "source": [
    "Buckets must have **globally** unique name."
   ]
  },
  {
   "cell_type": "markdown",
   "metadata": {},
   "source": [
    "**s3://aws-machine-learning-furkan**/my_file.csv"
   ]
  },
  {
   "cell_type": "markdown",
   "metadata": {},
   "source": [
    "Objects (files) have a Key. The key is the FULL path: <br>\n",
    "&nbsp;&nbsp;&nbsp; <my_bucket>/my_file.txt<br>\n",
    "&nbsp;&nbsp;&nbsp; <my_bucket>/my_folder1/another_myfolder/my_file.txt"
   ]
  },
  {
   "cell_type": "markdown",
   "metadata": {},
   "source": [
    "It is recommended to file your files as **year/month/day/hour**."
   ]
  },
  {
   "cell_type": "markdown",
   "metadata": {},
   "source": [
    "/2020/07/14/11/my_file.json"
   ]
  },
  {
   "cell_type": "markdown",
   "metadata": {},
   "source": [
    "Will be added:\n",
    "AWS S3 for machine learning\n",
    "AWS S3 Data Partitioning\n"
   ]
  },
  {
   "cell_type": "markdown",
   "metadata": {},
   "source": [
    "#### S3 Lifecycle Rules <br>\n",
    "Set of rules to move data between different tiers, to save storage cost<br>\n",
    "General Purpose => Infrequent Access => Glacier<br>\n",
    "###### Transition Actions: objects are transitioned to another storage class.<br>\n",
    "Move objects to Standard IA class 60 days after creation.<br>\n",
    "Move to Glacier for archiving after 6 months."
   ]
  },
  {
   "cell_type": "markdown",
   "metadata": {},
   "source": [
    "###### Expiration actions: S3 deletes expired objects on our behalf<br>\n",
    "Access log files can be set to delete after a specified period of time"
   ]
  },
  {
   "cell_type": "markdown",
   "metadata": {},
   "source": [
    "<font color='green'>ServisSoft should delete heat datas after 6 months for savings</font>"
   ]
  },
  {
   "cell_type": "markdown",
   "metadata": {},
   "source": [
    "#### Amazon S3 Security <br>\n",
    "###### S3 Encryption for Objects<br>\n",
    "There are 4 methods of encrypting objects in S3<br>\n",
    "* SSE-S3: encrypts S3 objects using keys handled & managed by AWS\n",
    "* SSE-KMS: use AWS key Management Service to manage encryption keys\n",
    "* SSE-C when you want to manage your own encryption keys\n",
    "* Client Side Encryption"
   ]
  },
  {
   "cell_type": "markdown",
   "metadata": {},
   "source": [
    "<font color='green'>For Machine Learning; SSE-S3 and SSE-KMS are most likely used.</font>"
   ]
  },
  {
   "cell_type": "code",
   "execution_count": null,
   "metadata": {},
   "outputs": [],
   "source": []
  },
  {
   "cell_type": "code",
   "execution_count": null,
   "metadata": {},
   "outputs": [],
   "source": []
  },
  {
   "cell_type": "code",
   "execution_count": null,
   "metadata": {},
   "outputs": [],
   "source": []
  },
  {
   "cell_type": "code",
   "execution_count": null,
   "metadata": {},
   "outputs": [],
   "source": []
  },
  {
   "cell_type": "code",
   "execution_count": null,
   "metadata": {},
   "outputs": [],
   "source": []
  },
  {
   "cell_type": "code",
   "execution_count": null,
   "metadata": {},
   "outputs": [],
   "source": []
  },
  {
   "cell_type": "code",
   "execution_count": null,
   "metadata": {},
   "outputs": [],
   "source": []
  },
  {
   "cell_type": "code",
   "execution_count": null,
   "metadata": {},
   "outputs": [],
   "source": []
  },
  {
   "cell_type": "code",
   "execution_count": null,
   "metadata": {},
   "outputs": [],
   "source": []
  },
  {
   "cell_type": "code",
   "execution_count": null,
   "metadata": {},
   "outputs": [],
   "source": []
  },
  {
   "cell_type": "code",
   "execution_count": null,
   "metadata": {},
   "outputs": [],
   "source": []
  },
  {
   "cell_type": "code",
   "execution_count": null,
   "metadata": {},
   "outputs": [],
   "source": []
  },
  {
   "cell_type": "code",
   "execution_count": null,
   "metadata": {},
   "outputs": [],
   "source": []
  },
  {
   "cell_type": "code",
   "execution_count": null,
   "metadata": {},
   "outputs": [],
   "source": []
  },
  {
   "cell_type": "code",
   "execution_count": null,
   "metadata": {},
   "outputs": [],
   "source": []
  },
  {
   "cell_type": "code",
   "execution_count": null,
   "metadata": {},
   "outputs": [],
   "source": []
  },
  {
   "cell_type": "code",
   "execution_count": null,
   "metadata": {},
   "outputs": [],
   "source": []
  },
  {
   "cell_type": "code",
   "execution_count": null,
   "metadata": {},
   "outputs": [],
   "source": []
  },
  {
   "cell_type": "code",
   "execution_count": null,
   "metadata": {},
   "outputs": [],
   "source": []
  },
  {
   "cell_type": "code",
   "execution_count": null,
   "metadata": {},
   "outputs": [],
   "source": []
  },
  {
   "cell_type": "code",
   "execution_count": null,
   "metadata": {},
   "outputs": [],
   "source": []
  },
  {
   "cell_type": "code",
   "execution_count": null,
   "metadata": {},
   "outputs": [],
   "source": []
  },
  {
   "cell_type": "code",
   "execution_count": null,
   "metadata": {},
   "outputs": [],
   "source": []
  },
  {
   "cell_type": "markdown",
   "metadata": {},
   "source": [
    "#  ServisSoft'un Kullanması Gereken Servisler"
   ]
  },
  {
   "cell_type": "code",
   "execution_count": null,
   "metadata": {},
   "outputs": [],
   "source": []
  }
 ],
 "metadata": {
  "kernelspec": {
   "display_name": "Python 3",
   "language": "python",
   "name": "python3"
  },
  "language_info": {
   "codemirror_mode": {
    "name": "ipython",
    "version": 3
   },
   "file_extension": ".py",
   "mimetype": "text/x-python",
   "name": "python",
   "nbconvert_exporter": "python",
   "pygments_lexer": "ipython3",
   "version": "3.7.3"
  }
 },
 "nbformat": 4,
 "nbformat_minor": 2
}
